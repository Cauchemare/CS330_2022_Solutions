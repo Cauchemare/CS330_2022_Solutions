{
 "cells": [
  {
   "cell_type": "code",
   "execution_count": 12,
   "id": "45c0ba61-e927-4438-961d-eb08fccad57f",
   "metadata": {},
   "outputs": [
    {
     "name": "stdout",
     "output_type": "stream",
     "text": [
      "{'tampered_positions': [], 'is_tampered': False, 'tampered_scores': []}\n",
      "{'tampered_positions': [], 'is_tampered': False, 'tampered_scores': []}\n",
      "{'tampered_positions': [], 'is_tampered': False, 'tampered_scores': []}\n",
      "{'tampered_positions': [], 'is_tampered': False, 'tampered_scores': []}\n",
      "{'tampered_positions': [], 'is_tampered': False, 'tampered_scores': []}\n",
      "{'tampered_positions': [[640, 516, 851, 516, 851, 685, 640, 685], [661, 57, 813, 57, 813, 170, 661, 170]], 'is_tampered': False, 'tampered_scores': [[0.02], [0.01]]}\n",
      "{'tampered_positions': [[570, 498, 797, 498, 797, 680, 570, 680], [557, 36, 715, 36, 715, 156, 557, 156]], 'is_tampered': False, 'tampered_scores': [[0.02], [0.08]]}\n",
      "{'tampered_positions': [], 'is_tampered': False, 'tampered_scores': []}\n",
      "{'tampered_positions': [], 'is_tampered': False, 'tampered_scores': []}\n"
     ]
    }
   ],
   "source": [
    "import json\n",
    "with open('need_detection_1206.jsonl') as f:\n",
    "    for line in f:\n",
    "        result= json.loads(line)\n",
    "        print(  {k:v   for  k,v in result['result']['image_property']['ps'].items()    if k!='image'})  "
   ]
  }
 ],
 "metadata": {
  "kernelspec": {
   "display_name": "Python 3 (ipykernel)",
   "language": "python",
   "name": "python3"
  },
  "language_info": {
   "codemirror_mode": {
    "name": "ipython",
    "version": 3
   },
   "file_extension": ".py",
   "mimetype": "text/x-python",
   "name": "python",
   "nbconvert_exporter": "python",
   "pygments_lexer": "ipython3",
   "version": "3.8.20"
  }
 },
 "nbformat": 4,
 "nbformat_minor": 5
}
